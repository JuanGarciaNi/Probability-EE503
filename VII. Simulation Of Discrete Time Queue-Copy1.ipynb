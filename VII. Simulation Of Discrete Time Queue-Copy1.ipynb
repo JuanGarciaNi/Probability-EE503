{
 "cells": [
  {
   "cell_type": "markdown",
   "metadata": {},
   "source": [
    "## VII. Simulation Of Discrete Time Queue\n",
    "\n",
    "Simulate the discrete time queue of problem II over $10^6$ slots using $\\mu= 3/4$ and $a_0 = 7/10$, $a_1 = a_2 = a_3 = 1/10$.\n",
    "Compare the theoretical value $p_k$ to the simulated value $\\frac{1}{T}\\sum^{T−1}_{t=0}1_{\\{Q(t)=k\\}}$ for $T \\in \\{10, 10^2, 10^3, 10^4, 10^5, 10^6\\}$ and $k\\in\\{0, 1, 2, 3, 4\\}$.\n",
    "\n"
   ]
  },
  {
   "cell_type": "code",
   "execution_count": 1,
   "metadata": {},
   "outputs": [],
   "source": [
    "import numpy as np\n",
    "#import random\n",
    "import pandas as pd  #pandas for dataframes\n",
    "import matplotlib.pyplot as plt"
   ]
  },
  {
   "cell_type": "code",
   "execution_count": 2,
   "metadata": {},
   "outputs": [
    {
     "data": {
      "text/plain": [
       "0.6000000000000001"
      ]
     },
     "execution_count": 2,
     "metadata": {},
     "output_type": "execute_result"
    }
   ],
   "source": [
    "ak=[7/10,1/10,1/10,1/10]\n",
    "mu=3/4\n",
    "lam=0\n",
    "for  i in range(4):\n",
    "    lam=lam+i*ak[i]\n",
    "lam"
   ]
  },
  {
   "cell_type": "markdown",
   "metadata": {},
   "source": [
    "We have $Q(0) = 0$ and\n",
    "$$Q(t + 1) = \\max \\{Q(t) - S(t), 0\\} + A(t) \\qquad \\forall t \\geq 0$$\n",
    "where \n",
    "$$P[A(t) = k] = a_k \\quad \\forall k \\in \\{0,1,2,3\\}$$\n",
    "$$P[S(t) = 1] = \\mu \\quad P[S(t) = 0] = 1-\\mu$$\n",
    "Define $\\lambda = \\mathbb{E}[A(t)]=\\sum_{k=0}^{\\infty}ka_k$. \n",
    "\n",
    "1)  $\\lim_{t\\rightarrow \\infty} P[Q(t) = k] = p_k$ steady-state pmf\n",
    "\n",
    "2) $p_0 = 1-\\frac{\\lambda}{\\mu}$\n",
    "\n",
    "First, let $T=10$ to see an example of $Q(t+1)$ as a vector in terms of a given $A(t)$ and $S(t)$."
   ]
  },
  {
   "cell_type": "code",
   "execution_count": 3,
   "metadata": {},
   "outputs": [
    {
     "name": "stdout",
     "output_type": "stream",
     "text": [
      "Q= [0 0 3 4 4 3 2 1 0 3]\n",
      "A= [0 3 2 1 0 0 0 0 3 0]\n",
      "S= [1 0 1 1 1 1 1 1 1 1]\n"
     ]
    }
   ],
   "source": [
    "T=10\n",
    "A=np.random.choice(np.arange(0, 4), p=ak,size=(T))\n",
    "S=np.random.choice(np.arange(2), p=[1-mu,mu],size=(T))\n",
    "Q=[0]\n",
    "for i in range(0,T-1):\n",
    "    Qtf=max(Q[i]-S[i],0)+A[i]\n",
    "    Q=np.append(Q,Qtf)\n",
    "print(\"Q=\",Q)\n",
    "print(\"A=\",A)\n",
    "print(\"S=\",S)"
   ]
  },
  {
   "cell_type": "markdown",
   "metadata": {},
   "source": [
    "So let's generalize with a function that give us the $Q$ packets given the number $T$."
   ]
  },
  {
   "cell_type": "code",
   "execution_count": 4,
   "metadata": {
    "scrolled": true
   },
   "outputs": [
    {
     "name": "stdout",
     "output_type": "stream",
     "text": [
      "A =  [0 3 0 3 0 3 0 1 1 0]\n",
      "Q =  [0 0 3 2 4 3 5 5 6 6]\n",
      "p_k simulated [0.2 0.  0.1 0.2 0.1 0.2 0.2 0.  0.  0. ]\n"
     ]
    }
   ],
   "source": [
    "#We made a vector 'P_sim' of the simulated pmf\n",
    "def P_sim(T):\n",
    "    A=np.random.choice(np.arange(0, 4), p=ak,size=(T))\n",
    "    S=np.random.choice(np.arange(2), p=[1-mu,mu],size=(T))\n",
    "    Q=[0]\n",
    "    for i in range(0,T-1):\n",
    "        Qtf=max(Q[i]-S[i],0)+A[i]\n",
    "        Q=np.append(Q,Qtf)\n",
    "        \n",
    "    P_simul=[]\n",
    "    for i in range(T):\n",
    "        Q_bool = (Q==i)             #boolean matrix {Q(t)=i}\n",
    "        I_Q = Q_bool.astype(np.int)  #indicator {Q(t)=i}\n",
    "        P_simul=np.append(P_simul,sum(I_Q)/T)    \n",
    "    return A, Q, P_simul\n",
    "\n",
    "A,Q,Psim=P_sim(10)\n",
    "print(\"A = \",A)\n",
    "print(\"Q = \",Q)\n",
    "print(\"p_k simulated\",Psim)"
   ]
  },
  {
   "cell_type": "markdown",
   "metadata": {},
   "source": [
    "The theoretical pmfs are\n",
    "$$\\boxed{p_0 = 1-\\frac{\\lambda}{\\mu}\\qquad p_1=\\frac{\\left(1-\\frac{\\lambda}{\\mu}\\right)(1-a_0)}{\\mu a_0}.}$$ \n",
    "\n",
    "$$\\boxed{p_{k+1}=\\frac{p_k-a_kp_0-\\sum_{i=1}^{k}p_i[(1-\\mu)a_{k-i}+\\mu a_{k+1-i}]}{\\mu a_0} \\qquad \\text{ for }k\\geq 2}$$\n",
    "\n",
    "Let's make a program to evaluate this theoretical pmfs"
   ]
  },
  {
   "cell_type": "code",
   "execution_count": 5,
   "metadata": {
    "scrolled": true
   },
   "outputs": [
    {
     "name": "stdout",
     "output_type": "stream",
     "text": [
      "p_k theoretical =  [0.2        0.11428571 0.12517007 0.11895044 0.08622333 0.07123487\n",
      " 0.0567229  0.04537637 0.03634461 0.02908125]\n"
     ]
    }
   ],
   "source": [
    "p0=1-lam/mu\n",
    "p1=p0*(1-ak[0])/(mu*ak[0])\n",
    "\n",
    "#the vector 'P' is a theoretical pmf\n",
    "def P_theo(T):\n",
    "    P=[p0,p1] \n",
    "    a=np.append(ak,np.zeros(T-4))#a vector full of ak that is zero for k>3\n",
    "    for k in range(1,T-1):\n",
    "        sumtot=0\n",
    "        for i in range(1,k+1):\n",
    "            sumtot+=P[i]*((1-mu)*a[k-i]+mu*a[k+1-i])\n",
    "        Pf=(P[k]-a[k]*p0-sumtot)/(mu*a[0])\n",
    "        P=np.append(P,Pf)\n",
    "    return P\n",
    "T=10\n",
    "Ptheo=P_theo(T)\n",
    "print(\"p_k theoretical = \",Ptheo)"
   ]
  },
  {
   "cell_type": "code",
   "execution_count": 6,
   "metadata": {},
   "outputs": [
    {
     "data": {
      "text/html": [
       "<div>\n",
       "<style scoped>\n",
       "    .dataframe tbody tr th:only-of-type {\n",
       "        vertical-align: middle;\n",
       "    }\n",
       "\n",
       "    .dataframe tbody tr th {\n",
       "        vertical-align: top;\n",
       "    }\n",
       "\n",
       "    .dataframe thead th {\n",
       "        text-align: right;\n",
       "    }\n",
       "</style>\n",
       "<table border=\"1\" class=\"dataframe\">\n",
       "  <thead>\n",
       "    <tr style=\"text-align: right;\">\n",
       "      <th></th>\n",
       "      <th>k(T=10)</th>\n",
       "      <th>$p_k$ Simulated</th>\n",
       "      <th>$p_k$ Theoretical</th>\n",
       "    </tr>\n",
       "  </thead>\n",
       "  <tbody>\n",
       "    <tr>\n",
       "      <th>0</th>\n",
       "      <td>0</td>\n",
       "      <td>0.2</td>\n",
       "      <td>0.200000</td>\n",
       "    </tr>\n",
       "    <tr>\n",
       "      <th>1</th>\n",
       "      <td>1</td>\n",
       "      <td>0.0</td>\n",
       "      <td>0.114286</td>\n",
       "    </tr>\n",
       "    <tr>\n",
       "      <th>2</th>\n",
       "      <td>2</td>\n",
       "      <td>0.1</td>\n",
       "      <td>0.125170</td>\n",
       "    </tr>\n",
       "    <tr>\n",
       "      <th>3</th>\n",
       "      <td>3</td>\n",
       "      <td>0.2</td>\n",
       "      <td>0.118950</td>\n",
       "    </tr>\n",
       "    <tr>\n",
       "      <th>4</th>\n",
       "      <td>4</td>\n",
       "      <td>0.1</td>\n",
       "      <td>0.086223</td>\n",
       "    </tr>\n",
       "    <tr>\n",
       "      <th>5</th>\n",
       "      <td>5</td>\n",
       "      <td>0.2</td>\n",
       "      <td>0.071235</td>\n",
       "    </tr>\n",
       "    <tr>\n",
       "      <th>6</th>\n",
       "      <td>6</td>\n",
       "      <td>0.2</td>\n",
       "      <td>0.056723</td>\n",
       "    </tr>\n",
       "    <tr>\n",
       "      <th>7</th>\n",
       "      <td>7</td>\n",
       "      <td>0.0</td>\n",
       "      <td>0.045376</td>\n",
       "    </tr>\n",
       "    <tr>\n",
       "      <th>8</th>\n",
       "      <td>8</td>\n",
       "      <td>0.0</td>\n",
       "      <td>0.036345</td>\n",
       "    </tr>\n",
       "    <tr>\n",
       "      <th>9</th>\n",
       "      <td>9</td>\n",
       "      <td>0.0</td>\n",
       "      <td>0.029081</td>\n",
       "    </tr>\n",
       "  </tbody>\n",
       "</table>\n",
       "</div>"
      ],
      "text/plain": [
       "   k(T=10)  $p_k$ Simulated  $p_k$ Theoretical\n",
       "0        0              0.2           0.200000\n",
       "1        1              0.0           0.114286\n",
       "2        2              0.1           0.125170\n",
       "3        3              0.2           0.118950\n",
       "4        4              0.1           0.086223\n",
       "5        5              0.2           0.071235\n",
       "6        6              0.2           0.056723\n",
       "7        7              0.0           0.045376\n",
       "8        8              0.0           0.036345\n",
       "9        9              0.0           0.029081"
      ]
     },
     "execution_count": 6,
     "metadata": {},
     "output_type": "execute_result"
    }
   ],
   "source": [
    "# Create a pandas DataFrame \n",
    "data = {'k(T=10)':[0,1,2,3,4,5,6,7,8,9],\n",
    "        '$p_k$ Simulated':Psim,\n",
    "       '$p_k$ Theoretical':Ptheo}\n",
    " \n",
    "# Create DataFrame\n",
    "df = pd.DataFrame(data)\n",
    "df"
   ]
  },
  {
   "cell_type": "code",
   "execution_count": 7,
   "metadata": {},
   "outputs": [
    {
     "data": {
      "text/html": [
       "<div>\n",
       "<style scoped>\n",
       "    .dataframe tbody tr th:only-of-type {\n",
       "        vertical-align: middle;\n",
       "    }\n",
       "\n",
       "    .dataframe tbody tr th {\n",
       "        vertical-align: top;\n",
       "    }\n",
       "\n",
       "    .dataframe thead th {\n",
       "        text-align: right;\n",
       "    }\n",
       "</style>\n",
       "<table border=\"1\" class=\"dataframe\">\n",
       "  <thead>\n",
       "    <tr style=\"text-align: right;\">\n",
       "      <th></th>\n",
       "      <th>$T$</th>\n",
       "      <th>$p_1$ Simulated</th>\n",
       "      <th>$p_1$ Theoretical</th>\n",
       "    </tr>\n",
       "  </thead>\n",
       "  <tbody>\n",
       "    <tr>\n",
       "      <th>0</th>\n",
       "      <td>10</td>\n",
       "      <td>0.090909</td>\n",
       "      <td>0.114286</td>\n",
       "    </tr>\n",
       "    <tr>\n",
       "      <th>1</th>\n",
       "      <td>100</td>\n",
       "      <td>0.000000</td>\n",
       "      <td>0.114286</td>\n",
       "    </tr>\n",
       "    <tr>\n",
       "      <th>2</th>\n",
       "      <td>1000</td>\n",
       "      <td>0.222222</td>\n",
       "      <td>0.114286</td>\n",
       "    </tr>\n",
       "    <tr>\n",
       "      <th>3</th>\n",
       "      <td>10000</td>\n",
       "      <td>0.071429</td>\n",
       "      <td>0.114286</td>\n",
       "    </tr>\n",
       "    <tr>\n",
       "      <th>4</th>\n",
       "      <td>100000</td>\n",
       "      <td>0.200000</td>\n",
       "      <td>0.114286</td>\n",
       "    </tr>\n",
       "    <tr>\n",
       "      <th>5</th>\n",
       "      <td>1000000</td>\n",
       "      <td>0.000000</td>\n",
       "      <td>0.114286</td>\n",
       "    </tr>\n",
       "  </tbody>\n",
       "</table>\n",
       "</div>"
      ],
      "text/plain": [
       "      $T$   $p_1$ Simulated  $p_1$ Theoretical\n",
       "0       10         0.090909           0.114286\n",
       "1      100         0.000000           0.114286\n",
       "2     1000         0.222222           0.114286\n",
       "3    10000         0.071429           0.114286\n",
       "4   100000         0.200000           0.114286\n",
       "5  1000000         0.000000           0.114286"
      ]
     },
     "execution_count": 7,
     "metadata": {},
     "output_type": "execute_result"
    }
   ],
   "source": [
    "P0s=[]#Vector of simulated p0 for different T \n",
    "P0t=[]#Vector of theoretical p0 for different T \n",
    "\n",
    "for i in range(1,7):\n",
    "    A,Q,Psim=P_sim(10^i)\n",
    "    P0s=np.append(P0s,Psim[1])\n",
    "    \n",
    "for i in range(1,7):\n",
    "    P0t=np.append(P0t,P_theo(10^i)[1])\n",
    "    \n",
    "# Create a pandas DataFrame \n",
    "data = {'$T$ ':[10,100,1000,10000,100000,1000000],\n",
    "        '$p_1$ Simulated':P0s,\n",
    "        '$p_1$ Theoretical':P0t} \n",
    "# Create DataFrame\n",
    "df = pd.DataFrame(data)\n",
    "df"
   ]
  },
  {
   "cell_type": "code",
   "execution_count": 8,
   "metadata": {},
   "outputs": [
    {
     "data": {
      "image/png": "[encoded data removed]",
      "text/plain": [
       "<Figure size 432x288 with 1 Axes>"
      ]
     },
     "metadata": {
      "needs_background": "light"
     },
     "output_type": "display_data"
    }
   ],
   "source": [
    "A,Q,Psim1=P_sim(10)\n",
    "A,Q,Psim2=P_sim(100)\n",
    "A,Q,Psim3=P_sim(1000)\n",
    "A,Q,Psim4=P_sim(10000)\n",
    "A,Q,Psim5=P_sim(100000)\n",
    "\n",
    "x = [0,1,2,3,4,5,6,7,8,9]\n",
    "plt.plot(x, Psim1,'--o',label='Simulated T=10')\n",
    "plt.plot(x, Psim2[0:10],'--o',label='Simulated T=10^2')\n",
    "plt.plot(x, Psim3[0:10],'--o',label='Simulated T=10^3')\n",
    "plt.plot(x, Psim4[0:10],'--o',label='Simulated T=10^4')\n",
    "plt.plot(x, Psim5[0:10],'--o',label='Simulated T=10^5')\n",
    "\n",
    "plt.plot(x, P_theo(10),'-ok',label='Theoretical')\n",
    "plt.legend(framealpha=1, frameon=True);\n",
    "plt.ylabel('$p_k$')\n",
    "plt.xlabel('$k$')\n",
    "plt.show()"
   ]
  },
  {
   "cell_type": "markdown",
   "metadata": {},
   "source": [
    "From the plot we observe that as $T$ increases or $k$ increases, the simulated mass function approximates to the theoretical one."
   ]
  },
  {
   "cell_type": "markdown",
   "metadata": {},
   "source": [
    "b) It can be shown that steady state queue size for the system is (with prob 1):\n",
    "\n",
    "$$\\mathbb{E}[Q] = \\lim_{T\\rightarrow \\infty} \\sum_{t=0}^{T-1}Q(t) = \\frac{\\mathbb{E}[A^2]+\\lambda-2\\lambda^2}{2(\\mu-\\lambda)}$$\n",
    "\n",
    "where $A = A(0)$. Compare this exact value with $\\frac{1}{T} \\sum^{T−1}_{t=0} Q(t)$ for $T \\in \\{10, 10^2, 10^3, 10^4, 10^5, 10^6\\}$."
   ]
  },
  {
   "cell_type": "code",
   "execution_count": 9,
   "metadata": {},
   "outputs": [
    {
     "data": {
      "text/html": [
       "<div>\n",
       "<style scoped>\n",
       "    .dataframe tbody tr th:only-of-type {\n",
       "        vertical-align: middle;\n",
       "    }\n",
       "\n",
       "    .dataframe tbody tr th {\n",
       "        vertical-align: top;\n",
       "    }\n",
       "\n",
       "    .dataframe thead th {\n",
       "        text-align: right;\n",
       "    }\n",
       "</style>\n",
       "<table border=\"1\" class=\"dataframe\">\n",
       "  <thead>\n",
       "    <tr style=\"text-align: right;\">\n",
       "      <th></th>\n",
       "      <th>$T$</th>\n",
       "      <th>Simulated Expectation</th>\n",
       "      <th>Theoretical Expectation</th>\n",
       "    </tr>\n",
       "  </thead>\n",
       "  <tbody>\n",
       "    <tr>\n",
       "      <th>0</th>\n",
       "      <td>10</td>\n",
       "      <td>3.20000</td>\n",
       "      <td>9.933333</td>\n",
       "    </tr>\n",
       "    <tr>\n",
       "      <th>1</th>\n",
       "      <td>100</td>\n",
       "      <td>1.42000</td>\n",
       "      <td>3.033333</td>\n",
       "    </tr>\n",
       "    <tr>\n",
       "      <th>2</th>\n",
       "      <td>1000</td>\n",
       "      <td>2.50300</td>\n",
       "      <td>3.820000</td>\n",
       "    </tr>\n",
       "    <tr>\n",
       "      <th>3</th>\n",
       "      <td>10000</td>\n",
       "      <td>4.85360</td>\n",
       "      <td>4.323667</td>\n",
       "    </tr>\n",
       "    <tr>\n",
       "      <th>4</th>\n",
       "      <td>100000</td>\n",
       "      <td>4.18154</td>\n",
       "      <td>4.278300</td>\n",
       "    </tr>\n",
       "  </tbody>\n",
       "</table>\n",
       "</div>"
      ],
      "text/plain": [
       "     $T$   Simulated Expectation  Theoretical Expectation\n",
       "0      10                3.20000                 9.933333\n",
       "1     100                1.42000                 3.033333\n",
       "2    1000                2.50300                 3.820000\n",
       "3   10000                4.85360                 4.323667\n",
       "4  100000                4.18154                 4.278300"
      ]
     },
     "execution_count": 9,
     "metadata": {},
     "output_type": "execute_result"
    }
   ],
   "source": [
    "def ApproxE(Q,t):\n",
    "    ApE=sum(Q)/t \n",
    "    return ApE\n",
    "\n",
    "def ExactE(A,t):\n",
    "    ExE=((sum(A*A)/t)+lam-2*lam**2)/(2*(mu-lam)) \n",
    "    return ExE\n",
    "\n",
    "Ap_E=[]#Vector of Approx Expectation \n",
    "Ex_E=[]#Vector of Exact Expectation\n",
    "\n",
    "for i in range(1,6):\n",
    "    t=10**i\n",
    "    A,Q,Psim=P_sim(t)\n",
    "    Ap_E=np.append(Ap_E,ApproxE(Q,t))\n",
    "    Ex_E=np.append(Ex_E,ExactE(A,t))\n",
    "    \n",
    "# Create a pandas DataFrame \n",
    "data = {'$T$ ':[10,100,1000,10000,100000],\n",
    "        'Simulated Expectation':Ap_E,\n",
    "        'Theoretical Expectation':Ex_E} \n",
    "# Create DataFrame\n",
    "df = pd.DataFrame(data)\n",
    "df"
   ]
  },
  {
   "cell_type": "code",
   "execution_count": null,
   "metadata": {},
   "outputs": [],
   "source": []
  }
 ],
 "metadata": {
  "kernelspec": {
   "display_name": "Python 3",
   "language": "python",
   "name": "python3"
  },
  "language_info": {
   "codemirror_mode": {
    "name": "ipython",
    "version": 3
   },
   "file_extension": ".py",
   "mimetype": "text/x-python",
   "name": "python",
   "nbconvert_exporter": "python",
   "pygments_lexer": "ipython3",
   "version": "3.8.5"
  }
 },
 "nbformat": 4,
 "nbformat_minor": 4
}
