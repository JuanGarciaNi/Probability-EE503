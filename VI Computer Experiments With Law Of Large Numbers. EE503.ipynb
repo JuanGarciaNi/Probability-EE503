{
 "cells": [
  {
   "cell_type": "markdown",
   "metadata": {},
   "source": [
    "## VI. Computer Experiments With Law Of Large Numbers. EE503\n",
    "### Juan García Nila\n",
    "\n",
    "Let $\\{X_i\\}_{i=1}^{\\infty}$ be i.i.d. $Exp(\\lambda)$. Define $X = X_1$. Modify the Python code at the link below to do the following problems (if you like, you can program in another language, such as Matlab):\n",
    "https://trinket.io/python3/da689a5760\n",
    "\n",
    "First we need the next libraries"
   ]
  },
  {
   "cell_type": "code",
   "execution_count": 1,
   "metadata": {},
   "outputs": [],
   "source": [
    "import random\n",
    "import math\n",
    "import numpy as np\n",
    "import pandas as pd  #pandas for dataframes\n",
    "import matplotlib.pyplot as plt   #pyplot for the graphs"
   ]
  },
  {
   "cell_type": "markdown",
   "metadata": {},
   "source": [
    "(a) For $\\lambda = 1$, compute $\\frac{1}{n}\\sum_{i=1}^n X_i$ for $n \\in \\{10, 100, 1000, 10000, 100000, 1000000\\}$. Compare to $\\mathbb{E}[X]$."
   ]
  },
  {
   "cell_type": "code",
   "execution_count": 2,
   "metadata": {},
   "outputs": [
    {
     "name": "stdout",
     "output_type": "stream",
     "text": [
      "lambda =  1\n",
      "E[X] =  1.0\n"
     ]
    },
    {
     "data": {
      "text/html": [
       "<div>\n",
       "<style scoped>\n",
       "    .dataframe tbody tr th:only-of-type {\n",
       "        vertical-align: middle;\n",
       "    }\n",
       "\n",
       "    .dataframe tbody tr th {\n",
       "        vertical-align: top;\n",
       "    }\n",
       "\n",
       "    .dataframe thead th {\n",
       "        text-align: right;\n",
       "    }\n",
       "</style>\n",
       "<table border=\"1\" class=\"dataframe\">\n",
       "  <thead>\n",
       "    <tr style=\"text-align: right;\">\n",
       "      <th></th>\n",
       "      <th>n</th>\n",
       "      <th>1/n$\\sum_{i=1}^n X_i$</th>\n",
       "      <th>1/n$\\sum_{i=1}^n X_i$-E[X]</th>\n",
       "    </tr>\n",
       "  </thead>\n",
       "  <tbody>\n",
       "    <tr>\n",
       "      <th>0</th>\n",
       "      <td>10</td>\n",
       "      <td>0.822211</td>\n",
       "      <td>-0.177789</td>\n",
       "    </tr>\n",
       "    <tr>\n",
       "      <th>1</th>\n",
       "      <td>100</td>\n",
       "      <td>1.032652</td>\n",
       "      <td>0.032652</td>\n",
       "    </tr>\n",
       "    <tr>\n",
       "      <th>2</th>\n",
       "      <td>1000</td>\n",
       "      <td>1.047646</td>\n",
       "      <td>0.047646</td>\n",
       "    </tr>\n",
       "    <tr>\n",
       "      <th>3</th>\n",
       "      <td>10000</td>\n",
       "      <td>0.998647</td>\n",
       "      <td>-0.001353</td>\n",
       "    </tr>\n",
       "    <tr>\n",
       "      <th>4</th>\n",
       "      <td>100000</td>\n",
       "      <td>0.999955</td>\n",
       "      <td>-0.000045</td>\n",
       "    </tr>\n",
       "    <tr>\n",
       "      <th>5</th>\n",
       "      <td>1000000</td>\n",
       "      <td>1.000528</td>\n",
       "      <td>0.000528</td>\n",
       "    </tr>\n",
       "  </tbody>\n",
       "</table>\n",
       "</div>"
      ],
      "text/plain": [
       "         n  1/n$\\sum_{i=1}^n X_i$  1/n$\\sum_{i=1}^n X_i$-E[X]\n",
       "0       10               0.822211                   -0.177789\n",
       "1      100               1.032652                    0.032652\n",
       "2     1000               1.047646                    0.047646\n",
       "3    10000               0.998647                   -0.001353\n",
       "4   100000               0.999955                   -0.000045\n",
       "5  1000000               1.000528                    0.000528"
      ]
     },
     "execution_count": 2,
     "metadata": {},
     "output_type": "execute_result"
    },
    {
     "data": {
      "image/png": "[encoded data removed]",
      "text/plain": [
       "<Figure size 432x288 with 1 Axes>"
      ]
     },
     "metadata": {
      "needs_background": "light"
     },
     "output_type": "display_data"
    }
   ],
   "source": [
    "lam = 1\n",
    "n = 1000000\n",
    "n1=10\n",
    "n2=100\n",
    "n3=1000\n",
    "n4=10000\n",
    "n5=100000\n",
    "\n",
    "Xi_list = [random.expovariate(lam) for _ in range(n)] #array of Xi\n",
    "E1=sum(Xi_list [:n1])/n1 #sum each element of the list\n",
    "E2=sum(Xi_list [:n2])/n2 #to get the approx expectation\n",
    "E3=sum(Xi_list [:n3])/n3 # En = sum(Xi_list)/n\n",
    "E4=sum(Xi_list [:n4])/n4 #get the E up to the first n4 v\n",
    "E5=sum(Xi_list [:n5])/n5\n",
    "En=sum(Xi_list [:n])/n\n",
    "E=1/lam\n",
    "print(\"lambda = \", lam) #Value of lam\n",
    "print(\"E[X] = \", E) # Exact value E=1/lam\n",
    "\n",
    "# Create a pandas DataFrame \n",
    "data = {'n':[n1,n2,n3,n4,n5,n],\n",
    "        '1/n$\\sum_{i=1}^n X_i$':[E1,E2,E3,E4,E5,En],\n",
    "       '1/n$\\sum_{i=1}^n X_i$-E[X]':[E1-E,E2-E,E3-E,E4-E,E5-E,En-E]}\n",
    "\n",
    "# Show Plot and DataFrame\n",
    "df = pd.DataFrame(data)\n",
    "x1, y1 = [n1,n], [E,E]\n",
    "df.plot(loglog=True,kind='scatter',x='n',y='1/n$\\sum_{i=1}^n X_i$',color='red')\n",
    "plt.plot(x1,y1)\n",
    "df"
   ]
  },
  {
   "cell_type": "markdown",
   "metadata": {},
   "source": [
    "b) Repeat part (a) for $\\lambda= 0.5$."
   ]
  },
  {
   "cell_type": "code",
   "execution_count": 3,
   "metadata": {},
   "outputs": [
    {
     "name": "stdout",
     "output_type": "stream",
     "text": [
      "lambda =  0.5\n",
      "E[X] =  2.0\n"
     ]
    },
    {
     "data": {
      "text/html": [
       "<div>\n",
       "<style scoped>\n",
       "    .dataframe tbody tr th:only-of-type {\n",
       "        vertical-align: middle;\n",
       "    }\n",
       "\n",
       "    .dataframe tbody tr th {\n",
       "        vertical-align: top;\n",
       "    }\n",
       "\n",
       "    .dataframe thead th {\n",
       "        text-align: right;\n",
       "    }\n",
       "</style>\n",
       "<table border=\"1\" class=\"dataframe\">\n",
       "  <thead>\n",
       "    <tr style=\"text-align: right;\">\n",
       "      <th></th>\n",
       "      <th>n</th>\n",
       "      <th>1/n $\\sum_{i=1}^n X_i$</th>\n",
       "      <th>1/n$\\sum_{i=1}^n X_i$-E[X]</th>\n",
       "    </tr>\n",
       "  </thead>\n",
       "  <tbody>\n",
       "    <tr>\n",
       "      <th>0</th>\n",
       "      <td>10</td>\n",
       "      <td>2.716983</td>\n",
       "      <td>0.716983</td>\n",
       "    </tr>\n",
       "    <tr>\n",
       "      <th>1</th>\n",
       "      <td>100</td>\n",
       "      <td>2.097673</td>\n",
       "      <td>0.097673</td>\n",
       "    </tr>\n",
       "    <tr>\n",
       "      <th>2</th>\n",
       "      <td>1000</td>\n",
       "      <td>1.983828</td>\n",
       "      <td>-0.016172</td>\n",
       "    </tr>\n",
       "    <tr>\n",
       "      <th>3</th>\n",
       "      <td>10000</td>\n",
       "      <td>2.003459</td>\n",
       "      <td>0.003459</td>\n",
       "    </tr>\n",
       "    <tr>\n",
       "      <th>4</th>\n",
       "      <td>100000</td>\n",
       "      <td>2.010960</td>\n",
       "      <td>0.010960</td>\n",
       "    </tr>\n",
       "    <tr>\n",
       "      <th>5</th>\n",
       "      <td>1000000</td>\n",
       "      <td>2.000061</td>\n",
       "      <td>0.000061</td>\n",
       "    </tr>\n",
       "  </tbody>\n",
       "</table>\n",
       "</div>"
      ],
      "text/plain": [
       "         n  1/n $\\sum_{i=1}^n X_i$  1/n$\\sum_{i=1}^n X_i$-E[X]\n",
       "0       10                2.716983                    0.716983\n",
       "1      100                2.097673                    0.097673\n",
       "2     1000                1.983828                   -0.016172\n",
       "3    10000                2.003459                    0.003459\n",
       "4   100000                2.010960                    0.010960\n",
       "5  1000000                2.000061                    0.000061"
      ]
     },
     "execution_count": 3,
     "metadata": {},
     "output_type": "execute_result"
    },
    {
     "data": {
      "image/png": "[encoded data removed]",
      "text/plain": [
       "<Figure size 432x288 with 1 Axes>"
      ]
     },
     "metadata": {
      "needs_background": "light"
     },
     "output_type": "display_data"
    }
   ],
   "source": [
    "lam = 0.5\n",
    "n = 1000000\n",
    "n1=10\n",
    "n2=100\n",
    "n3=1000\n",
    "n4=10000\n",
    "n5=100000\n",
    "\n",
    "Xi_list = [random.expovariate(lam) for _ in range(n)] #array of Xi \n",
    "E1=sum(Xi_list [:n1])/n1 #sum each element of the list\n",
    "E2=sum(Xi_list [:n2])/n2 #to get the approx expectation\n",
    "E3=sum(Xi_list [:n3])/n3 #En = sum(Xi_list)/n\n",
    "E4=sum(Xi_list [:n4])/n4 #get the E up to the first n4 elements of Xi\n",
    "E5=sum(Xi_list [:n5])/n5\n",
    "En=sum(Xi_list [:n])/n\n",
    "E=1/lam\n",
    "print(\"lambda = \", lam)#Value of lam\n",
    "print(\"E[X] = \", E) # Exact value E=1/lam\n",
    "\n",
    "# Create a pandas DataFrame \n",
    "data = {'n':[n1,n2,n3,n4,n5,n],\n",
    "        '1/n $\\sum_{i=1}^n X_i$':[E1,E2,E3,E4,E5,En],\n",
    "       '1/n$\\sum_{i=1}^n X_i$-E[X]':[E1-E,E2-E,E3-E,E4-E,E5-E,En-E]}\n",
    " \n",
    "# Show Plot and DataFrame\n",
    "df = pd.DataFrame(data)\n",
    "x1, y1 = [n1,n], [E,E]\n",
    "df.plot(loglog=True,kind='scatter',x='n',y='1/n $\\sum_{i=1}^n X_i$',color='red')\n",
    "plt.plot(x1,y1)\n",
    "df"
   ]
  },
  {
   "cell_type": "markdown",
   "metadata": {},
   "source": [
    "c) For $\\lambda = 1$, compute $\\frac{1}\n",
    "{n}\\sum_{i=1}^n 1_{\\{X_i\\geq \\frac{1}{\\lambda}\\}}$ for $n\\in\\{10, 100, 1000, 10000, 100000, 1000000 \\}$. Compare to $P[X\\geq \\frac{1}{\\lambda}]$. Here\n",
    "we define the indicator function:\n",
    "$$1_{\\{X_i\\geq 1/\\lambda \\}} =\\begin{cases}\n",
    "\t1 &\\text{if } X_i \\leq  \\frac{1}{\\lambda}\\\\\n",
    "\t0 &\\text{ else }\\\\\n",
    "\\end{cases}$$"
   ]
  },
  {
   "cell_type": "code",
   "execution_count": 4,
   "metadata": {},
   "outputs": [
    {
     "name": "stdout",
     "output_type": "stream",
     "text": [
      "lambda =  1\n",
      "P[X>1/lambda] =  0.36787944117144233\n"
     ]
    },
    {
     "data": {
      "text/html": [
       "<div>\n",
       "<style scoped>\n",
       "    .dataframe tbody tr th:only-of-type {\n",
       "        vertical-align: middle;\n",
       "    }\n",
       "\n",
       "    .dataframe tbody tr th {\n",
       "        vertical-align: top;\n",
       "    }\n",
       "\n",
       "    .dataframe thead th {\n",
       "        text-align: right;\n",
       "    }\n",
       "</style>\n",
       "<table border=\"1\" class=\"dataframe\">\n",
       "  <thead>\n",
       "    <tr style=\"text-align: right;\">\n",
       "      <th></th>\n",
       "      <th>n</th>\n",
       "      <th>fraction larger than 1/lambda</th>\n",
       "      <th>fraction-P[X&gt;1/lambda]</th>\n",
       "    </tr>\n",
       "  </thead>\n",
       "  <tbody>\n",
       "    <tr>\n",
       "      <th>0</th>\n",
       "      <td>10</td>\n",
       "      <td>0.600000</td>\n",
       "      <td>-0.232121</td>\n",
       "    </tr>\n",
       "    <tr>\n",
       "      <th>1</th>\n",
       "      <td>100</td>\n",
       "      <td>0.370000</td>\n",
       "      <td>-0.002121</td>\n",
       "    </tr>\n",
       "    <tr>\n",
       "      <th>2</th>\n",
       "      <td>1000</td>\n",
       "      <td>0.375000</td>\n",
       "      <td>-0.007121</td>\n",
       "    </tr>\n",
       "    <tr>\n",
       "      <th>3</th>\n",
       "      <td>10000</td>\n",
       "      <td>0.362000</td>\n",
       "      <td>0.005879</td>\n",
       "    </tr>\n",
       "    <tr>\n",
       "      <th>4</th>\n",
       "      <td>100000</td>\n",
       "      <td>0.367320</td>\n",
       "      <td>0.000559</td>\n",
       "    </tr>\n",
       "    <tr>\n",
       "      <th>5</th>\n",
       "      <td>10000000</td>\n",
       "      <td>0.367639</td>\n",
       "      <td>0.000240</td>\n",
       "    </tr>\n",
       "  </tbody>\n",
       "</table>\n",
       "</div>"
      ],
      "text/plain": [
       "          n  fraction larger than 1/lambda  fraction-P[X>1/lambda]\n",
       "0        10                       0.600000               -0.232121\n",
       "1       100                       0.370000               -0.002121\n",
       "2      1000                       0.375000               -0.007121\n",
       "3     10000                       0.362000                0.005879\n",
       "4    100000                       0.367320                0.000559\n",
       "5  10000000                       0.367639                0.000240"
      ]
     },
     "execution_count": 4,
     "metadata": {},
     "output_type": "execute_result"
    },
    {
     "data": {
      "image/png": "[encoded data removed]",
      "text/plain": [
       "<Figure size 432x288 with 1 Axes>"
      ]
     },
     "metadata": {
      "needs_background": "light"
     },
     "output_type": "display_data"
    }
   ],
   "source": [
    "lam = 1\n",
    "theta = 1/lam\n",
    "n=10000000\n",
    "n1=10\n",
    "n2=100\n",
    "n3=1000\n",
    "n4=10000\n",
    "n5=100000\n",
    "\n",
    "Xi_list = [random.expovariate(lam) for _ in range(n)] #array of Xi\n",
    "Xi_np = np.array(Xi_list)      #transform it to numpy array\n",
    "Xi_bool = Xi_np>theta             #boolean matrix of Xi greater than 1/lambda\n",
    "Xi_01 = Xi_bool.astype(np.int)    #transform it into 0,1 boolean array\n",
    "\n",
    "print(\"lambda = \", lam)#Value of lam\n",
    "P=1.0/math.exp(1)\n",
    "print(\"P[X>1/lambda] = \", P) #Exact value of P[X>1/lambda]\n",
    "\n",
    "P1=sum(Xi_01[:n1])/n1\n",
    "P2=sum(Xi_01[:n2])/n2  #get the P up to the first n2 elements of Xi\n",
    "P3=sum(Xi_01[:n3])/n3\n",
    "P4=sum(Xi_01[:n4])/n4\n",
    "P5=sum(Xi_01[:n5])/n5\n",
    "Pn=sum(Xi_01[:n])/n\n",
    "\n",
    "# Create a pandas DataFrame \n",
    "data = {'n':[n1,n2,n3,n4,n5,n],\n",
    "        'fraction larger than 1/lambda':[P1,P2,P3,P4,P5,Pn],\n",
    "       'fraction-P[X>1/lambda]':[P-P1,P-P2,P-P3,P-P4,P-P5,P-Pn]}\n",
    "\n",
    "# Show Plot and DataFrame\n",
    "df = pd.DataFrame(data)\n",
    "x1, y1 = [n1,n], [P,P]\n",
    "df.plot(loglog=True,kind='scatter',x='n',y='fraction larger than 1/lambda',color='red')\n",
    "plt.plot(x1,y1)\n",
    "df"
   ]
  },
  {
   "cell_type": "markdown",
   "metadata": {},
   "source": [
    "d) Repeat part (c) for $\\lambda = 0.5$."
   ]
  },
  {
   "cell_type": "code",
   "execution_count": 5,
   "metadata": {},
   "outputs": [
    {
     "name": "stdout",
     "output_type": "stream",
     "text": [
      "lambda =  0.5\n",
      "P[X>1/lambda] =  0.36787944117144233\n"
     ]
    },
    {
     "data": {
      "text/html": [
       "<div>\n",
       "<style scoped>\n",
       "    .dataframe tbody tr th:only-of-type {\n",
       "        vertical-align: middle;\n",
       "    }\n",
       "\n",
       "    .dataframe tbody tr th {\n",
       "        vertical-align: top;\n",
       "    }\n",
       "\n",
       "    .dataframe thead th {\n",
       "        text-align: right;\n",
       "    }\n",
       "</style>\n",
       "<table border=\"1\" class=\"dataframe\">\n",
       "  <thead>\n",
       "    <tr style=\"text-align: right;\">\n",
       "      <th></th>\n",
       "      <th>n</th>\n",
       "      <th>fraction larger than 1/lambda</th>\n",
       "      <th>fraction-P[X&gt;1/lambda]</th>\n",
       "    </tr>\n",
       "  </thead>\n",
       "  <tbody>\n",
       "    <tr>\n",
       "      <th>0</th>\n",
       "      <td>10</td>\n",
       "      <td>0.30000</td>\n",
       "      <td>0.067879</td>\n",
       "    </tr>\n",
       "    <tr>\n",
       "      <th>1</th>\n",
       "      <td>100</td>\n",
       "      <td>0.34000</td>\n",
       "      <td>0.027879</td>\n",
       "    </tr>\n",
       "    <tr>\n",
       "      <th>2</th>\n",
       "      <td>1000</td>\n",
       "      <td>0.37400</td>\n",
       "      <td>-0.006121</td>\n",
       "    </tr>\n",
       "    <tr>\n",
       "      <th>3</th>\n",
       "      <td>10000</td>\n",
       "      <td>0.36780</td>\n",
       "      <td>0.000079</td>\n",
       "    </tr>\n",
       "    <tr>\n",
       "      <th>4</th>\n",
       "      <td>100000</td>\n",
       "      <td>0.36703</td>\n",
       "      <td>0.000849</td>\n",
       "    </tr>\n",
       "    <tr>\n",
       "      <th>5</th>\n",
       "      <td>10000000</td>\n",
       "      <td>0.36783</td>\n",
       "      <td>0.000050</td>\n",
       "    </tr>\n",
       "  </tbody>\n",
       "</table>\n",
       "</div>"
      ],
      "text/plain": [
       "          n  fraction larger than 1/lambda  fraction-P[X>1/lambda]\n",
       "0        10                        0.30000                0.067879\n",
       "1       100                        0.34000                0.027879\n",
       "2      1000                        0.37400               -0.006121\n",
       "3     10000                        0.36780                0.000079\n",
       "4    100000                        0.36703                0.000849\n",
       "5  10000000                        0.36783                0.000050"
      ]
     },
     "execution_count": 5,
     "metadata": {},
     "output_type": "execute_result"
    },
    {
     "data": {
      "image/png": "[encoded data removed]",
      "text/plain": [
       "<Figure size 432x288 with 1 Axes>"
      ]
     },
     "metadata": {
      "needs_background": "light"
     },
     "output_type": "display_data"
    }
   ],
   "source": [
    "lam = 0.5\n",
    "theta = 1/lam\n",
    "n=10000000\n",
    "n1=10\n",
    "n2=100\n",
    "n3=1000\n",
    "n4=10000\n",
    "n5=100000\n",
    "\n",
    "Xi_list = [random.expovariate(lam) for _ in range(n)] #array of Xi\n",
    "Xi_np = np.array(Xi_list)      #transform it to numpy array\n",
    "Xi_bool = Xi_np>theta             #boolean matrix of Xi greater than 1/lambda\n",
    "Xi_01 = Xi_bool.astype(np.int)    #transform it into 0,1 boolean array\n",
    "\n",
    "print(\"lambda = \", lam)\n",
    "P=1.0/math.exp(1)\n",
    "print(\"P[X>1/lambda] = \", P)\n",
    "\n",
    "P1=sum(Xi_01[:n1])/n1\n",
    "P2=sum(Xi_01[:n2])/n2\n",
    "P3=sum(Xi_01[:n3])/n3  #get the P up to the first n3 elements of Xi\n",
    "P4=sum(Xi_01[:n4])/n4\n",
    "P5=sum(Xi_01[:n5])/n5\n",
    "Pn=sum(Xi_01[:n])/n\n",
    "\n",
    "# Create a pandas DataFrame \n",
    "data = {'n':[n1,n2,n3,n4,n5,n],\n",
    "        'fraction larger than 1/lambda':[P1,P2,P3,P4,P5,Pn],\n",
    "       'fraction-P[X>1/lambda]':[P-P1,P-P2,P-P3,P-P4,P-P5,P-Pn]}\n",
    "\n",
    "# Show Plot and DataFrame\n",
    "df = pd.DataFrame(data)\n",
    "x1, y1 = [n1,n], [P,P]\n",
    "df.plot(loglog=True,kind='scatter',x='n',y='fraction larger than 1/lambda',color='red')\n",
    "plt.plot(x1,y1)\n",
    "df"
   ]
  },
  {
   "cell_type": "markdown",
   "metadata": {},
   "source": [
    "e) Compute $E[X|X\\geq1/\\lambda]$. Describe how you would write a computer program (with, say, 1 million i.i.d. exponentially distributed random variables) to verify this empirically. Write the program and verify it empirically and present your results.\n",
    "$$E[X|X\\geq1/\\lambda]=\\int_{-\\infty}^{\\infty}\\hspace{-0.5cm} x f_{X|X \\geq 1/\\lambda}(x)dx=\\int_{-\\infty}^{\\infty} \\hspace{-0.2cm}x\\frac{f_X(x) 1_{\\{x\\geq \\frac{1}{\\lambda}\\}}}{P[X\\geq \\frac{1}{\\lambda}]}dx=\\frac{\\int_{\\frac{1}{\\lambda}}^{\\infty}xf_X(x)dx}{\\int_{\\frac{1}{\\lambda}}^{\\infty}f_X(x)dx}=\\frac{\\frac{2}{e \\lambda }}{e^{-1}}=\\boxed{\\frac{2}{\\lambda}.}$$"
   ]
  },
  {
   "cell_type": "code",
   "execution_count": 6,
   "metadata": {},
   "outputs": [
    {
     "name": "stdout",
     "output_type": "stream",
     "text": [
      "lambda =  1\n",
      "E[X|X>1/lambda] =  2.0\n"
     ]
    },
    {
     "data": {
      "text/html": [
       "<div>\n",
       "<style scoped>\n",
       "    .dataframe tbody tr th:only-of-type {\n",
       "        vertical-align: middle;\n",
       "    }\n",
       "\n",
       "    .dataframe tbody tr th {\n",
       "        vertical-align: top;\n",
       "    }\n",
       "\n",
       "    .dataframe thead th {\n",
       "        text-align: right;\n",
       "    }\n",
       "</style>\n",
       "<table border=\"1\" class=\"dataframe\">\n",
       "  <thead>\n",
       "    <tr style=\"text-align: right;\">\n",
       "      <th></th>\n",
       "      <th>n</th>\n",
       "      <th>Approx Expected</th>\n",
       "      <th>Approx Expected-E[X|X&gt;1/lambda]</th>\n",
       "    </tr>\n",
       "  </thead>\n",
       "  <tbody>\n",
       "    <tr>\n",
       "      <th>0</th>\n",
       "      <td>10</td>\n",
       "      <td>1.798435</td>\n",
       "      <td>-0.201565</td>\n",
       "    </tr>\n",
       "    <tr>\n",
       "      <th>1</th>\n",
       "      <td>100</td>\n",
       "      <td>1.896711</td>\n",
       "      <td>-0.103289</td>\n",
       "    </tr>\n",
       "    <tr>\n",
       "      <th>2</th>\n",
       "      <td>1000</td>\n",
       "      <td>1.991534</td>\n",
       "      <td>-0.008466</td>\n",
       "    </tr>\n",
       "    <tr>\n",
       "      <th>3</th>\n",
       "      <td>10000</td>\n",
       "      <td>1.981890</td>\n",
       "      <td>-0.018110</td>\n",
       "    </tr>\n",
       "    <tr>\n",
       "      <th>4</th>\n",
       "      <td>100000</td>\n",
       "      <td>1.997984</td>\n",
       "      <td>-0.002016</td>\n",
       "    </tr>\n",
       "    <tr>\n",
       "      <th>5</th>\n",
       "      <td>10000000</td>\n",
       "      <td>2.000708</td>\n",
       "      <td>0.000708</td>\n",
       "    </tr>\n",
       "  </tbody>\n",
       "</table>\n",
       "</div>"
      ],
      "text/plain": [
       "          n  Approx Expected  Approx Expected-E[X|X>1/lambda]\n",
       "0        10         1.798435                        -0.201565\n",
       "1       100         1.896711                        -0.103289\n",
       "2      1000         1.991534                        -0.008466\n",
       "3     10000         1.981890                        -0.018110\n",
       "4    100000         1.997984                        -0.002016\n",
       "5  10000000         2.000708                         0.000708"
      ]
     },
     "execution_count": 6,
     "metadata": {},
     "output_type": "execute_result"
    },
    {
     "data": {
      "image/png": "[encoded data removed]",
      "text/plain": [
       "<Figure size 432x288 with 1 Axes>"
      ]
     },
     "metadata": {
      "needs_background": "light"
     },
     "output_type": "display_data"
    }
   ],
   "source": [
    "lam = 1\n",
    "theta = 1/lam\n",
    "n=10000000\n",
    "n1=10\n",
    "n2=100\n",
    "n3=1000\n",
    "n4=10000\n",
    "n5=100000\n",
    "\n",
    "Xi_list = [random.expovariate(lam) for _ in range(n)] #array of Xi\n",
    "Xi_np = np.array(Xi_list)         #transform it to numpy array\n",
    "Xi_bool = Xi_np>theta             #boolean matrix of Xi greater than 1/lambda\n",
    "Xi_01 = Xi_bool.astype(np.int)    #transform it into 0,1 boolean array\n",
    "X_greatE=Xi_np*Xi_01\n",
    "\n",
    "Egreat=2.0/lam \n",
    "print(\"lambda = \", lam)             #lambda \n",
    "print(\"E[X|X>1/lambda] = \", Egreat) #Exact expected value \n",
    "\n",
    "Egreat1=sum(X_greatE[:n1])/sum(Xi_01[:n1])\n",
    "Egreat2=sum(X_greatE[:n2])/sum(Xi_01[:n2])\n",
    "Egreat3=sum(X_greatE[:n3])/sum(Xi_01[:n3])\n",
    "Egreat4=sum(X_greatE[:n4])/sum(Xi_01[:n4]) #get the E up to the first n4 elements of Xi\n",
    "Egreat5=sum(X_greatE[:n5])/sum(Xi_01[:n5])\n",
    "Egreatn=sum(X_greatE[:n])/sum(Xi_01[:n])\n",
    "\n",
    "# Create a pandas DataFrame \n",
    "data = {'n':[n1,n2,n3,n4,n5,n],\n",
    "        'Approx Expected':[Egreat1,Egreat2,Egreat3,Egreat4,Egreat5,Egreatn],\n",
    "       'Approx Expected-E[X|X>1/lambda]':[Egreat1-Egreat,Egreat2-Egreat,Egreat3-Egreat,Egreat4-Egreat,Egreat5-Egreat,Egreatn-Egreat]}\n",
    "# Show Plot and DataFrame\n",
    "df = pd.DataFrame(data)\n",
    "x1, y1 = [n1,n], [Egreat,Egreat]\n",
    "df.plot(loglog=True,kind='scatter',x='n',y='Approx Expected',color='red')\n",
    "plt.plot(x1,y1)\n",
    "df"
   ]
  },
  {
   "cell_type": "code",
   "execution_count": 7,
   "metadata": {},
   "outputs": [
    {
     "name": "stdout",
     "output_type": "stream",
     "text": [
      "lambda =  0.5\n",
      "E[X|X>1/lambda] =  4.0\n"
     ]
    },
    {
     "data": {
      "text/html": [
       "<div>\n",
       "<style scoped>\n",
       "    .dataframe tbody tr th:only-of-type {\n",
       "        vertical-align: middle;\n",
       "    }\n",
       "\n",
       "    .dataframe tbody tr th {\n",
       "        vertical-align: top;\n",
       "    }\n",
       "\n",
       "    .dataframe thead th {\n",
       "        text-align: right;\n",
       "    }\n",
       "</style>\n",
       "<table border=\"1\" class=\"dataframe\">\n",
       "  <thead>\n",
       "    <tr style=\"text-align: right;\">\n",
       "      <th></th>\n",
       "      <th>n</th>\n",
       "      <th>Approx Expected</th>\n",
       "      <th>Approx Expected-E[X|X&gt;1/lambda]</th>\n",
       "    </tr>\n",
       "  </thead>\n",
       "  <tbody>\n",
       "    <tr>\n",
       "      <th>0</th>\n",
       "      <td>10</td>\n",
       "      <td>5.393412</td>\n",
       "      <td>1.393412</td>\n",
       "    </tr>\n",
       "    <tr>\n",
       "      <th>1</th>\n",
       "      <td>100</td>\n",
       "      <td>4.227966</td>\n",
       "      <td>0.227966</td>\n",
       "    </tr>\n",
       "    <tr>\n",
       "      <th>2</th>\n",
       "      <td>1000</td>\n",
       "      <td>4.088886</td>\n",
       "      <td>0.088886</td>\n",
       "    </tr>\n",
       "    <tr>\n",
       "      <th>3</th>\n",
       "      <td>10000</td>\n",
       "      <td>4.016124</td>\n",
       "      <td>0.016124</td>\n",
       "    </tr>\n",
       "    <tr>\n",
       "      <th>4</th>\n",
       "      <td>100000</td>\n",
       "      <td>4.009683</td>\n",
       "      <td>0.009683</td>\n",
       "    </tr>\n",
       "    <tr>\n",
       "      <th>5</th>\n",
       "      <td>10000000</td>\n",
       "      <td>4.000761</td>\n",
       "      <td>0.000761</td>\n",
       "    </tr>\n",
       "  </tbody>\n",
       "</table>\n",
       "</div>"
      ],
      "text/plain": [
       "          n  Approx Expected  Approx Expected-E[X|X>1/lambda]\n",
       "0        10         5.393412                         1.393412\n",
       "1       100         4.227966                         0.227966\n",
       "2      1000         4.088886                         0.088886\n",
       "3     10000         4.016124                         0.016124\n",
       "4    100000         4.009683                         0.009683\n",
       "5  10000000         4.000761                         0.000761"
      ]
     },
     "execution_count": 7,
     "metadata": {},
     "output_type": "execute_result"
    },
    {
     "data": {
      "image/png": "[encoded data removed]",
      "text/plain": [
       "<Figure size 432x288 with 1 Axes>"
      ]
     },
     "metadata": {
      "needs_background": "light"
     },
     "output_type": "display_data"
    }
   ],
   "source": [
    "lam = 0.5\n",
    "theta = 1/lam\n",
    "n=10000000\n",
    "n1=10\n",
    "n2=100\n",
    "n3=1000\n",
    "n4=10000\n",
    "n5=100000\n",
    "\n",
    "Xi_list = [random.expovariate(lam) for _ in range(n)] #array of Xi\n",
    "Xi_np = np.array(Xi_list)         #transform it to numpy array\n",
    "Xi_bool = Xi_np>theta             #boolean matrix of Xi greater than 1/lambda\n",
    "Xi_01 = Xi_bool.astype(np.int)    #transform it into 0,1 boolean array\n",
    "X_greatE=Xi_np*Xi_01\n",
    "\n",
    "Egreat=2.0/lam \n",
    "print(\"lambda = \", lam)             #lambda \n",
    "print(\"E[X|X>1/lambda] = \", Egreat) #Exact expected value \n",
    "\n",
    "Egreat1=sum(X_greatE[:n1])/sum(Xi_01[:n1])\n",
    "Egreat2=sum(X_greatE[:n2])/sum(Xi_01[:n2])\n",
    "Egreat3=sum(X_greatE[:n3])/sum(Xi_01[:n3])\n",
    "Egreat4=sum(X_greatE[:n4])/sum(Xi_01[:n4]) #get the E up to the first n4 elements of Xi\n",
    "Egreat5=sum(X_greatE[:n5])/sum(Xi_01[:n5])\n",
    "Egreatn=sum(X_greatE[:n])/sum(Xi_01[:n])\n",
    "\n",
    "# Create a pandas DataFrame \n",
    "data = {'n':[n1,n2,n3,n4,n5,n],\n",
    "        'Approx Expected':[Egreat1,Egreat2,Egreat3,Egreat4,Egreat5,Egreatn],\n",
    "       'Approx Expected-E[X|X>1/lambda]':[Egreat1-Egreat,Egreat2-Egreat,Egreat3-Egreat,Egreat4-Egreat,Egreat5-Egreat,Egreatn-Egreat]}\n",
    "# Show Plot and DataFrame\n",
    "df = pd.DataFrame(data)\n",
    "x1, y1 = [n1,n], [Egreat,Egreat]\n",
    "df.plot(loglog=True,kind='scatter',x='n',y='Approx Expected',color='red')\n",
    "plt.plot(x1,y1)\n",
    "df"
   ]
  },
  {
   "cell_type": "markdown",
   "metadata": {},
   "source": [
    "Description of the program:\n",
    "\n",
    "The computer program (with i.i.d. exponentially distributed random variables) for computing $E[X|X\\geq1/\\lambda]$ makes the next fraction\n",
    "\n",
    "$$E[X|X\\geq1/\\lambda]\\approx \\frac{\\frac{1}\n",
    "{n}\\sum^n_{\\{i:X_i\\geq \\frac{1}{\\lambda}\\}}X_i}{P[X\\geq \\frac{1}{\\lambda}]}\\approx Approx \\, Expected =\\frac{\\sum^n_{i=1}X_i 1_{\\{X_i\\geq \\frac{1}{\\lambda}\\}}}{\\sum_{i=1}^n 1_{\\{X_i\\geq \\frac{1}{\\lambda}\\}}}$$\n",
    "The program is making a boolean vector that checks if the statement $\\{X_i\\geq \\frac{1}{\\lambda}\\}$ is true and then makes a dot product with the vector that contains all the $X_i$ random variables."
   ]
  }
 ],
 "metadata": {
  "kernelspec": {
   "display_name": "Python 3",
   "language": "python",
   "name": "python3"
  },
  "language_info": {
   "codemirror_mode": {
    "name": "ipython",
    "version": 3
   },
   "file_extension": ".py",
   "mimetype": "text/x-python",
   "name": "python",
   "nbconvert_exporter": "python",
   "pygments_lexer": "ipython3",
   "version": "3.8.5"
  }
 },
 "nbformat": 4,
 "nbformat_minor": 4
}
